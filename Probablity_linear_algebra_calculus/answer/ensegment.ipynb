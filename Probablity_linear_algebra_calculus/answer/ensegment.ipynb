{
 "cells": [
  {
   "cell_type": "markdown",
   "metadata": {},
   "source": [
    "# ensegment: default program"
   ]
  },
  {
   "cell_type": "code",
   "execution_count": null,
   "metadata": {},
   "outputs": [],
   "source": [
    "from default import *"
   ]
  },
  {
   "cell_type": "markdown",
   "metadata": {},
   "source": [
    "## class Pdist(dict) in ensegment.py : (default)"
   ]
  },
  {
   "cell_type": "code",
   "execution_count": 2,
   "metadata": {},
   "outputs": [],
   "source": [
    "    \"A probability distribution estimated from counts in datafile.\"\n",
    "    def __init__(self, data=[], N=None, missingfn=None):\n",
    "        for key,count in data:\n",
    "            self[key] = self.get(key, 0) + int(count)\n",
    "        self.N = float(N or sum(self.values()))\n",
    "        self.missingfn = missingfn or (lambda k, N: 1./N) #will be modified\n",
    "    def __call__(self, key): \n",
    "        if key in self: return self[key]/self.N  \n",
    "        else: return self.missingfn(key, self.N)"
   ]
  },
  {
   "cell_type": "markdown",
   "metadata": {},
   "source": [
    "### Output from running the code with cell above \n",
    "\n",
    "INFO:root:path: None\n",
    "INFO:root:files: {'dev.out'}\n",
    "INFO:root:testing filename: dev.out\n",
    "INFO:root:filename=dev.out\n",
    "INFO:root:path_key=dev.out\n",
    "INFO:root:Checking dev.out\n",
    "INFO:root:ref, output [(\"b'choose spain'\", \"b'choose spain'\"), (\"b'this is a test'\", \"b'this is a test'\"), (\"b'who represents'\", \"b'who represents'\"), (\"b'experts exchange'\", \"b'experts exchange'\"), (\"b'speed of art'\", \"b'speed of art'\"), (\"b'un climate change body'\", \"b'unclimatechangebody'\"), (\"b'we are the people'\", \"b'we are the people'\"), (\"b'mention your faves'\", \"b'mentionyourfaves'\"), (\"b'now playing'\", \"b'now playing'\"), (\"b'the walking dead'\", \"b'the walking dead'\"), (\"b'follow me'\", \"b'follow me'\"), (\"b'we are the people'\", \"b'we are the people'\"), (\"b'mention your faves'\", \"b'mentionyourfaves'\"), (\"b'check domain'\", \"b'check domain'\"), (\"b'big rock'\", \"b'big rock'\"), (\"b'name cheap'\", \"b'name cheap'\"), (\"b'apple domains'\", \"b'apple domains'\"), (\"b'honesty hour'\", \"b'honesty hour'\"), (\"b'being human'\", \"b'being human'\"), (\"b'follow back'\", \"b'follow back'\"), (\"b'social media'\", \"b'social media'\"), (\"b'30 seconds to earth'\", \"b'30secondstoearth'\"), (\"b'current rate sought to go down'\", \"b'current ratesoughttogodown'\"), (\"b'this is insane'\", \"b'this is insane'\"), (\"b'what is my name'\", \"b'what is my name'\"), (\"b'is it time'\", \"b'is it time'\"), (\"b'let us go'\", \"b'let us go'\"), (\"b'me too'\", \"b'me too'\"), (\"b'now thatcher is dead'\", \"b'nowthatcherisdead'\"), (\"b'advice for young journalists'\", \"b'advice for young journalists'\")]\n",
    "INFO:root:score \n",
    "\n",
    "#### dev.out: 0.8152866242038218 ~ 0.82"
   ]
  },
  {
   "cell_type": "markdown",
   "metadata": {},
   "source": [
    "## Assigning lower probability to known word"
   ]
  },
  {
   "cell_type": "code",
   "execution_count": 4,
   "metadata": {},
   "outputs": [],
   "source": [
    "    \"A probability distribution estimated from counts in datafile.\"\n",
    "    def __init__(self, data=[], N=None, missingfn=None):\n",
    "        for key,count in data:\n",
    "            self[key] = self.get(key, 0) + int(count)\n",
    "        self.N = float(N or sum(self.values()))\n",
    "        self.missingfn = missingfn or (lambda k, N: 1./(N*100)) # decrease the probability by factor of 100\n",
    "    def __call__(self, key): \n",
    "        if key in self: return self[key]/self.N  \n",
    "        else: return self.missingfn(key, self.N)"
   ]
  },
  {
   "cell_type": "markdown",
   "metadata": {},
   "source": [
    "### Output from running the code with cell above \n",
    "\n",
    "INFO:root:path: None\n",
    "INFO:root:files: {'dev.out'}\n",
    "INFO:root:testing filename: dev.out\n",
    "INFO:root:filename=dev.out\n",
    "INFO:root:path_key=dev.out\n",
    "INFO:root:Checking dev.out\n",
    "INFO:root:ref, output [(\"b'choose spain'\", \"b'choose spain'\"), (\"b'this is a test'\", \"b'this is a test'\"), (\"b'who represents'\", \"b'who represents'\"), (\"b'experts exchange'\", \"b'experts exchange'\"), (\"b'speed of art'\", \"b'speed of art'\"), (\"b'un climate change body'\", \"b'unclimatechangebody'\"), (\"b'we are the people'\", \"b'we are the people'\"), (\"b'mention your faves'\", \"b'mention your faves'\"), (\"b'now playing'\", \"b'now playing'\"), (\"b'the walking dead'\", \"b'the walking dead'\"), (\"b'follow me'\", \"b'follow me'\"), (\"b'we are the people'\", \"b'we are the people'\"), (\"b'mention your faves'\", \"b'mention your faves'\"), (\"b'check domain'\", \"b'check domain'\"), (\"b'big rock'\", \"b'big rock'\"), (\"b'name cheap'\", \"b'name cheap'\"), (\"b'apple domains'\", \"b'apple domains'\"), (\"b'honesty hour'\", \"b'honesty hour'\"), (\"b'being human'\", \"b'being human'\"), (\"b'follow back'\", \"b'follow back'\"), (\"b'social media'\", \"b'social media'\"), (\"b'30 seconds to earth'\", \"b'30secondstoearth'\"), (\"b'current rate sought to go down'\", \"b'current ratesoughttogodown'\"), (\"b'this is insane'\", \"b'this is insane'\"), (\"b'what is my name'\", \"b'what is my name'\"), (\"b'is it time'\", \"b'is it time'\"), (\"b'let us go'\", \"b'let us go'\"), (\"b'me too'\", \"b'me too'\"), (\"b'now thatcher is dead'\", \"b'nowthatcherisdead'\"), (\"b'advice for young journalists'\", \"b'advice for young journalists'\")]\n",
    "INFO:root:score \n",
    "\n",
    "#### dev.out: 0.8695652173913044 ~ 0.87"
   ]
  },
  {
   "cell_type": "markdown",
   "metadata": {},
   "source": [
    "## Utilizing length of the word for probability reduction"
   ]
  },
  {
   "cell_type": "code",
   "execution_count": 5,
   "metadata": {},
   "outputs": [],
   "source": [
    "    \"A probability distribution estimated from counts in datafile.\"\n",
    "    def __init__(self, data=[], N=None, missingfn=None):\n",
    "        for key,count in data:\n",
    "            self[key] = self.get(key, 0) + int(count)\n",
    "        self.N = float(N or sum(self.values()))\n",
    "        self.missingfn = missingfn or (lambda k, N: 1./(N*5**len(k))) # decreases exponentially with rate 'word length'\n",
    "    def __call__(self, key): \n",
    "        if key in self: return self[key]/self.N  \n",
    "        else: return self.missingfn(key, self.N)"
   ]
  },
  {
   "cell_type": "markdown",
   "metadata": {},
   "source": [
    "### Output from running the code with cell above \n",
    "\n",
    "INFO:root:path: None\n",
    "INFO:root:files: {'dev.out'}\n",
    "INFO:root:testing filename: dev.out\n",
    "INFO:root:filename=dev.out\n",
    "INFO:root:path_key=dev.out\n",
    "INFO:root:Checking dev.out\n",
    "INFO:root:ref, output [(\"b'choose spain'\", \"b'choose spain'\"), (\"b'this is a test'\", \"b'this is a test'\"), (\"b'who represents'\", \"b'who represents'\"), (\"b'experts exchange'\", \"b'experts exchange'\"), (\"b'speed of art'\", \"b'speed of art'\"), (\"b'un climate change body'\", \"b'un climate change body'\"), (\"b'we are the people'\", \"b'we are the people'\"), (\"b'mention your faves'\", \"b'mention your faves'\"), (\"b'now playing'\", \"b'now playing'\"), (\"b'the walking dead'\", \"b'the walking dead'\"), (\"b'follow me'\", \"b'follow me'\"), (\"b'we are the people'\", \"b'we are the people'\"), (\"b'mention your faves'\", \"b'mention your faves'\"), (\"b'check domain'\", \"b'check domain'\"), (\"b'big rock'\", \"b'big rock'\"), (\"b'name cheap'\", \"b'name cheap'\"), (\"b'apple domains'\", \"b'apple domains'\"), (\"b'honesty hour'\", \"b'honesty hour'\"), (\"b'being human'\", \"b'being human'\"), (\"b'follow back'\", \"b'follow back'\"), (\"b'social media'\", \"b'social media'\"), (\"b'30 seconds to earth'\", \"b'30secondstoearth'\"), (\"b'current rate sought to go down'\", \"b'current rate sought to go down'\"), (\"b'this is insane'\", \"b'this is insane'\"), (\"b'what is my name'\", \"b'what is my name'\"), (\"b'is it time'\", \"b'is it time'\"), (\"b'let us go'\", \"b'let us go'\"), (\"b'me too'\", \"b'me too'\"), (\"b'now thatcher is dead'\", \"b'now thatcher is dead'\"), (\"b'advice for young journalists'\", \"b'advice for young journalists'\")]\n",
    "INFO:root:score \n",
    "\n",
    "#### dev.out: 0.9707602339181286 ~0.97"
   ]
  },
  {
   "cell_type": "markdown",
   "metadata": {},
   "source": [
    "## Tweaking the parameter"
   ]
  },
  {
   "cell_type": "code",
   "execution_count": 7,
   "metadata": {},
   "outputs": [],
   "source": [
    "  \"A probability distribution estimated from counts in datafile.\"\n",
    "def __init__(self, data=[], N=None, missingfn=None):\n",
    "    for key,count in data:\n",
    "        self[key] = self.get(key, 0) + int(count)\n",
    "    self.N = float(N or sum(self.values()))\n",
    "    self.missingfn = missingfn or (lambda k, N: 1./(N*10**len(k))) # decreases exponentially with rate 'word length'\n",
    "def __call__(self, key): \n",
    "    if key in self: return self[key]/self.N  \n",
    "    else: return self.missingfn(key, self.N)"
   ]
  },
  {
   "cell_type": "markdown",
   "metadata": {},
   "source": [
    "### Output from running the code with cell above \n",
    "\n",
    "INFO:root:path: None\n",
    "INFO:root:files: {'dev.out'}\n",
    "INFO:root:testing filename: dev.out\n",
    "INFO:root:filename=dev.out\n",
    "INFO:root:path_key=dev.out\n",
    "INFO:root:Checking dev.out\n",
    "INFO:root:ref, output [(\"b'choose spain'\", \"b'choose spain'\"), (\"b'this is a test'\", \"b'this is a test'\"), (\"b'who represents'\", \"b'who represents'\"), (\"b'experts exchange'\", \"b'experts exchange'\"), (\"b'speed of art'\", \"b'speed of art'\"), (\"b'un climate change body'\", \"b'un climate change body'\"), (\"b'we are the people'\", \"b'we are the people'\"), (\"b'mention your faves'\", \"b'mention your faves'\"), (\"b'now playing'\", \"b'now playing'\"), (\"b'the walking dead'\", \"b'the walking dead'\"), (\"b'follow me'\", \"b'follow me'\"), (\"b'we are the people'\", \"b'we are the people'\"), (\"b'mention your faves'\", \"b'mention your faves'\"), (\"b'check domain'\", \"b'check domain'\"), (\"b'big rock'\", \"b'big rock'\"), (\"b'name cheap'\", \"b'name cheap'\"), (\"b'apple domains'\", \"b'apple domains'\"), (\"b'honesty hour'\", \"b'honesty hour'\"), (\"b'being human'\", \"b'being human'\"), (\"b'follow back'\", \"b'follow back'\"), (\"b'social media'\", \"b'social media'\"), (\"b'30 seconds to earth'\", \"b'30 seconds to earth'\"), (\"b'current rate sought to go down'\", \"b'current rate sought to go down'\"), (\"b'this is insane'\", \"b'this is insane'\"), (\"b'what is my name'\", \"b'what is my name'\"), (\"b'is it time'\", \"b'is it time'\"), (\"b'let us go'\", \"b'let us go'\"), (\"b'me too'\", \"b'me too'\"), (\"b'now thatcher is dead'\", \"b'now thatcher is dead'\"), (\"b'advice for young journalists'\", \"b'advice for young journalists'\")]\n",
    "INFO:root:score \n",
    "\n",
    "#### dev.out: 1.0"
   ]
  },
  {
   "cell_type": "markdown",
   "metadata": {},
   "source": [
    "## Analysis\n",
    "\n",
    "Do some analysis of the results. What ideas did you try? What worked and what did not?\n",
    "\n",
    "We figured out that the missingfn does not utilize a passed parameter k, instead it only uses N which does not depend on the words. Thus, the words that does not appear on the data were assigned to same probability.\n",
    "\n",
    "From the default setting of probability 1/N, we first have tried to decrease the probability by factor of 100 and had small improvement on the F-score by 0.05. *default setting F-score : 0.82\n",
    "\n",
    "Next, instead of decresing the probability by factor of 100, we have reduced it with factor of 5 with exponential rate of \"word length\". This method had an improvement of the F-score, 0.1 compared to the default setting.\n",
    " \n",
    "Lastly, by reducing the probability with factor of 10 with exponential rate of \"word length\" had resulted the significant improvement with 1.0 F-score."
   ]
  }
 ],
 "metadata": {
  "kernelspec": {
   "display_name": "Python 3",
   "language": "python",
   "name": "python3"
  },
  "language_info": {
   "codemirror_mode": {
    "name": "ipython",
    "version": 3
   },
   "file_extension": ".py",
   "mimetype": "text/x-python",
   "name": "python",
   "nbconvert_exporter": "python",
   "pygments_lexer": "ipython3",
   "version": "3.8.8"
  }
 },
 "nbformat": 4,
 "nbformat_minor": 2
}
